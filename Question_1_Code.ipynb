import tensorflow as tf

# 1. Create a random tensor of shape (4, 6)
tensor_4_6 = tf.random.uniform(shape=(4, 6))
print("Original tensor:")
print(tensor_4_6)

# 2. Find its rank and shape
rank = tf.rank(tensor_4_6)
shape = tf.shape(tensor_4_6)
print(f"\nRank: {rank}")
print(f"Shape: {shape}")

# 3. Reshape and transpose
# Reshape to (2, 3, 4)
reshaped_tensor = tf.reshape(tensor_4_6, (2, 3, 4))
print("\nReshaped tensor (2, 3, 4):")
print(reshaped_tensor)

# Transpose to (3, 2, 4)
transposed_tensor = tf.transpose(reshaped_tensor, perm=[1, 0, 2])
print("\nTransposed tensor (3, 2, 4):")
print(transposed_tensor)

# Print rank and shape after reshaping/transposing
print(f"\nRank after reshaping: {tf.rank(reshaped_tensor)}")
print(f"Shape after reshaping: {tf.shape(reshaped_tensor)}")
print(f"Rank after transposing: {tf.rank(transposed_tensor)}")
print(f"Shape after transposing: {tf.shape(transposed_tensor)}")

# 4. Broadcasting and addition
# Create a smaller tensor of shape (1, 4)
smaller_tensor = tf.random.uniform(shape=(1, 4))
print("\nSmaller tensor (1, 4):")
print(smaller_tensor)

# Broadcasting and adding
broadcasted_sum = reshaped_tensor + smaller_tensor[:, tf.newaxis, :]
print("\nResult after broadcasting and addition:")
print(broadcasted_sum)

# 5. Explanation of broadcasting in TensorFlow
print("\nExplanation of broadcasting:")
print("Broadcasting in TensorFlow allows arithmetic operations between tensors of different shapes.")
print("The smaller tensor (1, 4) is broadcast to match the shape of the reshaped tensor (2, 3, 4).")
print("1. The smaller tensor is expanded to (1, 1, 4).")
print("2. This is then repeated to match the shape (2, 3, 4).")
print("3. Finally, element-wise addition is performed.")
print("This allows efficient operations between tensors of different shapes without manually replicating data.")
